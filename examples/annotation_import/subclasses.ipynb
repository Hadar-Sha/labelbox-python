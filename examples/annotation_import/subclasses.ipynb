{
  "cells": [
    {
      "cell_type": "markdown",
      "id": "a6a048e8-b5fe-418b-aec4-829b5b6802e5",
      "metadata": {
        "id": "a6a048e8-b5fe-418b-aec4-829b5b6802e5"
      },
      "source": [
        "<td>\n",
        "   <a target=\"_blank\" href=\"https://labelbox.com\" ><img src=\"https://labelbox.com/blog/content/images/2021/02/logo-v4.svg\" width=256/></a>\n",
        "</td>"
      ]
    },
    {
      "cell_type": "markdown",
      "id": "51cf1362-1cde-4749-aac7-5fb94473baa7",
      "metadata": {
        "id": "51cf1362-1cde-4749-aac7-5fb94473baa7"
      },
      "source": [
        "<td>\n",
        "<a href=\"https://colab.research.google.com/github/Labelbox/labelbox-python/blob/develop/examples/annotation_import/subclasses.ipynb\" target=\"_blank\"><img\n",
        "src=\"https://colab.research.google.com/assets/colab-badge.svg\" alt=\"Open In Colab\"></a>\n",
        "</td>\n",
        "\n",
        "<td>\n",
        "<a href=\"https://colab.research.google.com/github/Labelbox/labelbox-python/blob/develop/examples/annotation_import/subclasses.ipynb\" target=\"_blank\"><img\n",
        "src=\"https://img.shields.io/badge/GitHub-100000?logo=github&logoColor=white\" alt=\"GitHub\"></a>\n",
        "</td>"
      ]
    },
    {
      "cell_type": "markdown",
      "id": "339795d3-e36c-4470-8605-62bfdd5eea29",
      "metadata": {
        "id": "339795d3-e36c-4470-8605-62bfdd5eea29"
      },
      "source": [
        "# Image Annotation Import with Subclasses\n",
        "* This notebook will provide examples of each supported annotation type for image assets. It will cover the following:\n",
        "    * Model-assisted labeling - used to provide pre-annotated data for your labelers. This will enable a reduction in the total amount of time to properly label your assets. Model-assisted labeling does not submit the labels automatically, and will need to be reviewed by a labeler for submission.\n",
        "    * Label Import - used to provide ground truth labels. These can in turn be used and compared against prediction labels, or used as benchmarks to see how your labelers are doing.\n",
        "    * Right now, our *Annotation Types* schemas don't support nested classifications. So, we'll be using NDJSON syntax in this tutorial.\n"
      ]
    },
    {
      "cell_type": "markdown",
      "id": "e76f007b-9465-4acd-9008-20e25e4a4b98",
      "metadata": {
        "id": "e76f007b-9465-4acd-9008-20e25e4a4b98"
      },
      "source": [
        "* For information on what types of annotations are supported per data type, refer to this documentation:\n",
        "    * https://docs.labelbox.com/docs/model-assisted-labeling#option-1-import-via-python-annotation-types-recommended\n",
        "* For more information on the syntax of annotations with nested classifications, view our guide here:\n",
        "    * https://docs.labelbox.com/recipes/import-annotations"
      ]
    },
    {
      "cell_type": "markdown",
      "id": "f53d50fc-8d3c-452b-9aaf-f6170aaa5576",
      "metadata": {
        "id": "f53d50fc-8d3c-452b-9aaf-f6170aaa5576"
      },
      "source": [
        "* Notes:\n",
        "    * If you are importing more than 1,000 mask annotations at a time, consider submitting separate jobs, as they can take longer than other annotation types to import.\n",
        "    * Wait until the import job is complete before opening the Editor to make sure all annotations are imported properly."
      ]
    },
    {
      "cell_type": "markdown",
      "id": "5effdaa3-e701-4804-aa33-bbbaed99eb92",
      "metadata": {
        "id": "5effdaa3-e701-4804-aa33-bbbaed99eb92"
      },
      "source": [
        "# Installs"
      ]
    },
    {
      "cell_type": "code",
      "execution_count": null,
      "id": "4d63074b-2379-48af-b9d6-2a66190f03c4",
      "metadata": {
        "id": "4d63074b-2379-48af-b9d6-2a66190f03c4"
      },
      "outputs": [],
      "source": [
        "!pip install -q 'labelbox[data]'"
      ]
    },
    {
      "cell_type": "markdown",
      "id": "6f3cdca1-524f-4247-a63b-2d4371b0257d",
      "metadata": {
        "id": "6f3cdca1-524f-4247-a63b-2d4371b0257d"
      },
      "source": [
        "# Imports"
      ]
    },
    {
      "cell_type": "code",
      "execution_count": 2,
      "id": "01fca8c9-0680-4a9c-a11e-1b49f31e9121",
      "metadata": {
        "id": "01fca8c9-0680-4a9c-a11e-1b49f31e9121"
      },
      "outputs": [],
      "source": [
        "from labelbox.schema.ontology import OntologyBuilder, Tool, Classification, Option\n",
        "from labelbox import Client, LabelingFrontend, LabelImport, MALPredictionImport\n",
        "from labelbox.data.annotation_types import (\n",
        "    Label, ImageData, ObjectAnnotation, MaskData,\n",
        "    Rectangle, Point, Line, Mask, Polygon,\n",
        "    Radio, Checklist, Text,\n",
        "    ClassificationAnnotation, ClassificationAnswer\n",
        ")\n",
        "from labelbox.data.serialization import NDJsonConverter\n",
        "import uuid\n",
        "import json\n",
        "import numpy as np\n",
        "import copy"
      ]
    },
    {
      "cell_type": "markdown",
      "id": "a72d96e8-33ce-434d-b330-393e1c31702a",
      "metadata": {
        "id": "a72d96e8-33ce-434d-b330-393e1c31702a"
      },
      "source": [
        "# API Key and Client\n",
        "Provide a valid api key below in order to properly connect to the Labelbox Client."
      ]
    },
    {
      "cell_type": "code",
      "execution_count": 38,
      "id": "86003724-4807-4281-95c1-5284a6f9609f",
      "metadata": {
        "id": "86003724-4807-4281-95c1-5284a6f9609f"
      },
      "outputs": [],
      "source": [
        "# Add your api key\n",
        "API_KEY = None\n",
        "client = Client(api_key=API_KEY)"
      ]
    },
    {
      "cell_type": "markdown",
      "source": [
        "The Syntax between model-assisted labeling and label import are the same - have one of these set to `True` and the other set to `False`. The only difference here is that:\n",
        "- Model-assisted labeling uploads annotations to-be-labeled. As in, they aren't submitted\n",
        "- Label Import uploads annotations as submitted labels. That way, they can be sent straight to the review step (if enabled) or used as a ground truth label"
      ],
      "metadata": {
        "id": "MDzajtlV4BJM"
      },
      "id": "MDzajtlV4BJM"
    },
    {
      "cell_type": "code",
      "source": [
        "# Have one value here set to True, the other to False\n",
        "model_assisted_labeling = False\n",
        "label_import = True"
      ],
      "metadata": {
        "id": "fcTQv5Gv38kA"
      },
      "id": "fcTQv5Gv38kA",
      "execution_count": 39,
      "outputs": []
    },
    {
      "cell_type": "markdown",
      "id": "960998ac-bde4-4184-8b7d-26d8e019cc7f",
      "metadata": {
        "id": "960998ac-bde4-4184-8b7d-26d8e019cc7f"
      },
      "source": [
        "---- \n",
        "### Steps\n",
        "1. Make sure project is setup\n",
        "2. Collect annotations\n",
        "3. Upload"
      ]
    },
    {
      "cell_type": "markdown",
      "id": "82a7381b-2409-4ed3-9d25-881a1e1d8ca6",
      "metadata": {
        "id": "82a7381b-2409-4ed3-9d25-881a1e1d8ca6"
      },
      "source": [
        "### Project setup"
      ]
    },
    {
      "cell_type": "markdown",
      "id": "d51fd2e1-bf5f-4c61-bca1-929f43b076ed",
      "metadata": {
        "id": "d51fd2e1-bf5f-4c61-bca1-929f43b076ed"
      },
      "source": [
        "We will be creating two projects, one for model-assisted labeling, and one for label imports"
      ]
    },
    {
      "cell_type": "code",
      "execution_count": 66,
      "id": "f9f9287c-aad7-4914-bc87-1453fb8bce81",
      "metadata": {
        "id": "f9f9287c-aad7-4914-bc87-1453fb8bce81"
      },
      "outputs": [],
      "source": [
        "ontology_builder = OntologyBuilder(\n",
        "    tools=[\n",
        "        Tool(tool=Tool.Type.BBOX, name=\"box\",\n",
        "             classifications=[\n",
        "                 Classification(\n",
        "                     class_type=Classification.Type.CHECKLIST, \n",
        "                     instructions=\"tool_nested_checklist\", \n",
        "                     options=[Option(value=\"first_tool_nested_checklist_answer\"),\n",
        "                              Option(value=\"second_tool_nested_checklist_answer\"),\n",
        "                              Option(value=\"third_tool_nested_checklist_answer\")]),\n",
        "                 Classification(\n",
        "                     class_type=Classification.Type.RADIO, \n",
        "                     instructions=\"tool_nested_radio\", \n",
        "                     options=[Option(value=\"first_tool_nested_radio_answer\"),\n",
        "                              Option(value=\"second_tool_nested_radio_answer\")],\n",
        "                              )])\n",
        "        ],\n",
        "    classifications=[\n",
        "        Classification(\n",
        "            class_type=Classification.Type.RADIO, \n",
        "            instructions=\"radio\", \n",
        "            options=[Option(value=\"first_radio_answer\",\n",
        "                            options=[\n",
        "                                Classification(\n",
        "                                  class_type=Classification.Type.CHECKLIST,\n",
        "                                  instructions=\"nested_checklist\",\n",
        "                                  options=[\n",
        "                                      Option(value=\"first_nested_checklist_answer\"),\n",
        "                                      Option(value=\"second_nested_checklist_answer\"),\n",
        "                                      Option(value=\"third_nested_checklist_answer\")\n",
        "                                  ])]),\n",
        "                    Option(value=\"second_radio_answer\"),\n",
        "                    Option(value=\"third_radio_answer\")])\n",
        "    ]\n",
        ")"
      ]
    },
    {
      "cell_type": "code",
      "execution_count": 67,
      "id": "044e9194-d21d-403e-b64c-047c1063b0fe",
      "metadata": {
        "id": "044e9194-d21d-403e-b64c-047c1063b0fe"
      },
      "outputs": [],
      "source": [
        "subclasses_project = client.create_project(name=\"subclass_annotation_import_project\")\n",
        "\n",
        "dataset = client.create_dataset(name=\"subclass_annotation_import_demo_dataset\")\n",
        "test_img_url = \"https://raw.githubusercontent.com/Labelbox/labelbox-python/develop/examples/assets/2560px-Kitano_Street_Kobe01s5s4110.jpg\"\n",
        "data_row = dataset.create_data_row(row_data=test_img_url)\n",
        "editor = next(client.get_labeling_frontends(where=LabelingFrontend.name == \"Editor\"))\n",
        "\n",
        "subclasses_project.setup(editor, ontology_builder.asdict())\n",
        "subclasses_project.datasets.connect(dataset)"
      ]
    },
    {
      "cell_type": "markdown",
      "source": [
        "Creates a dictionary where the key is the name of the tool, classification or option and the value is the ontology's featureSchemaId"
      ],
      "metadata": {
        "id": "mwYXTM6LICBN"
      },
      "id": "mwYXTM6LICBN"
    },
    {
      "cell_type": "code",
      "source": [
        "def map_features(ontology_normalized):\n",
        "  \"\"\" Creates a dictionary where keys = tool/classification/option name : values = featureSchemaId\n",
        "  Args:\n",
        "    ontology_normalized   :   Queried from a project using project.ontology().normalized\n",
        "  Returns:\n",
        "    Dictionary with the specified keys and values\n",
        "  \"\"\"\n",
        "  feature_map = {}\n",
        "  tools = ontology_normalized[\"tools\"]\n",
        "  classifications = ontology_normalized[\"classifications\"]\n",
        "  if tools:\n",
        "    feature_map, next_layer = layer_iterator(feature_map, tools)\n",
        "  if classifications:\n",
        "    feature_map, next_layer = layer_iterator(feature_map, classifications)\n",
        "  return feature_map\n",
        "\n",
        "def layer_iterator(feature_map, node_layer):\n",
        "  for node in node_layer:\n",
        "    try:\n",
        "      node_name = node[\"name\"]\n",
        "      next_layer = node[\"classifications\"]\n",
        "    except:\n",
        "      try:\n",
        "        node_name = node[\"instructions\"]\n",
        "        next_layer = node[\"options\"]\n",
        "      except:\n",
        "        node_name = node[\"label\"]\n",
        "        try:\n",
        "          next_layer = node[\"options\"]\n",
        "        except:\n",
        "          next_layer = []\n",
        "    feature_map.update({node_name : node['featureSchemaId']})\n",
        "    feature_map = copy.deepcopy(feature_map)\n",
        "    if next_layer:\n",
        "      feature_map, next_layer = layer_iterator(feature_map, next_layer)\n",
        "  return feature_map, next_layer"
      ],
      "metadata": {
        "id": "K2qgfQxSEUfl"
      },
      "id": "K2qgfQxSEUfl",
      "execution_count": 68,
      "outputs": []
    },
    {
      "cell_type": "code",
      "source": [
        "name_schemaId_map = map_features(subclasses_project.ontology().normalized)"
      ],
      "metadata": {
        "id": "5ndb5EQgExpr"
      },
      "id": "5ndb5EQgExpr",
      "execution_count": 69,
      "outputs": []
    },
    {
      "cell_type": "code",
      "source": [
        "name_schemaId_map"
      ],
      "metadata": {
        "id": "82ClbZ6GxSWK",
        "colab": {
          "base_uri": "https://localhost:8080/"
        },
        "outputId": "f47637f3-0e29-4f7e-efa0-6f62fb17cfa8"
      },
      "id": "82ClbZ6GxSWK",
      "execution_count": 70,
      "outputs": [
        {
          "output_type": "execute_result",
          "data": {
            "text/plain": [
              "{'box': 'cl1dnu41o0ipt0z40bjoletaj',\n",
              " 'first_nested_checklist_answer': 'cl1dnu41p0iqc0z40cgov1soq',\n",
              " 'first_radio_answer': 'cl1dnu41p0iqa0z40gh8p9y7t',\n",
              " 'first_tool_nested_checklist_answer': 'cl1dnu41o0ipv0z404sth992b',\n",
              " 'first_tool_nested_radio_answer': 'cl1dnu41o0iq30z4075ae16n5',\n",
              " 'nested_checklist': 'cl1dnu41p0iqb0z40gui5fqee',\n",
              " 'radio': 'cl1dnu41p0iq90z4012iu9vy4',\n",
              " 'second_nested_checklist_answer': 'cl1dnu41p0iqe0z40fw6nf9vj',\n",
              " 'second_radio_answer': 'cl1dnu41p0iqk0z40c4gz45wl',\n",
              " 'second_tool_nested_checklist_answer': 'cl1dnu41o0ipx0z40fuvk0tb6',\n",
              " 'second_tool_nested_radio_answer': 'cl1dnu41o0iq50z4052nbe6jr',\n",
              " 'third_nested_checklist_answer': 'cl1dnu41p0iqg0z408uws98rt',\n",
              " 'third_radio_answer': 'cl1dnu41p0iqm0z401k4p324k',\n",
              " 'third_tool_nested_checklist_answer': 'cl1dnu41o0ipz0z406j7qhdv2',\n",
              " 'tool_nested_checklist': 'cl1dnu41o0ipu0z40awi6ap1f',\n",
              " 'tool_nested_radio': 'cl1dnu41o0iq20z403oxvgw7t'}"
            ]
          },
          "metadata": {},
          "execution_count": 70
        }
      ]
    },
    {
      "cell_type": "markdown",
      "id": "8da94c48-72a5-4535-ab66-6d14b0b79aed",
      "metadata": {
        "id": "8da94c48-72a5-4535-ab66-6d14b0b79aed"
      },
      "source": [
        "### Create Label using NDJSON Syntax\n",
        "* For subclasses on an annotation, use te below syntax"
      ]
    },
    {
      "cell_type": "code",
      "source": [
        "tool_subclass_list = [\n",
        "  {\n",
        "    'schemaId' : name_schemaId_map['tool_nested_radio'],\n",
        "    'answer' : { 'schemaId' : name_schemaId_map['second_tool_nested_radio_answer']}\n",
        "  },\n",
        "  {\n",
        "    'schemaId' : name_schemaId_map['tool_nested_checklist'],\n",
        "    'answers' : [{ 'schemaId' : name_schemaId_map['second_tool_nested_checklist_answer']}, { 'schemaId' : name_schemaId_map['third_tool_nested_checklist_answer']}]\n",
        "  }\n",
        "]\n",
        "\n",
        "tool_subclass_list"
      ],
      "metadata": {
        "id": "pejjRLwIfF2Y",
        "colab": {
          "base_uri": "https://localhost:8080/"
        },
        "outputId": "19ebccff-64d2-4615-aa87-32f18e0207fe"
      },
      "id": "pejjRLwIfF2Y",
      "execution_count": 71,
      "outputs": [
        {
          "output_type": "execute_result",
          "data": {
            "text/plain": [
              "[{'answer': {'schemaId': 'cl1dnu41o0iq50z4052nbe6jr'},\n",
              "  'schemaId': 'cl1dnu41o0iq20z403oxvgw7t'},\n",
              " {'answers': [{'schemaId': 'cl1dnu41o0ipx0z40fuvk0tb6'},\n",
              "   {'schemaId': 'cl1dnu41o0ipz0z406j7qhdv2'}],\n",
              "  'schemaId': 'cl1dnu41o0ipu0z40awi6ap1f'}]"
            ]
          },
          "metadata": {},
          "execution_count": 71
        }
      ]
    },
    {
      "cell_type": "code",
      "source": [
        "classification_subclass_list = [\n",
        "  {\n",
        "    'schemaId' : name_schemaId_map['nested_checklist'],\n",
        "    'answers' : [{ 'schemaId' : name_schemaId_map['first_nested_checklist_answer']}]\n",
        "  }\n",
        "]\n",
        "\n",
        "classification_subclass_list"
      ],
      "metadata": {
        "colab": {
          "base_uri": "https://localhost:8080/"
        },
        "id": "TCTqESv6zw-6",
        "outputId": "741bdb60-3e92-46ff-ce35-661a914272a1"
      },
      "id": "TCTqESv6zw-6",
      "execution_count": 72,
      "outputs": [
        {
          "output_type": "execute_result",
          "data": {
            "text/plain": [
              "[{'answers': [{'schemaId': 'cl1dnu41p0iqc0z40cgov1soq'}],\n",
              "  'schemaId': 'cl1dnu41p0iqb0z40gui5fqee'}]"
            ]
          },
          "metadata": {},
          "execution_count": 72
        }
      ]
    },
    {
      "cell_type": "markdown",
      "id": "15bd593b-509d-4114-af95-ae0be081c42d",
      "metadata": {
        "id": "15bd593b-509d-4114-af95-ae0be081c42d"
      },
      "source": [
        "### Create an Annotation NDJSON\n",
        "* This will result in one NDJSON per annotation\n",
        "* One annotation can have a list of classifications. \n",
        "* The `answer` field always need a `schemaId`, but can also have a `classifications` field if your annotation has more layers"
      ]
    },
    {
      "cell_type": "code",
      "execution_count": 73,
      "id": "6d72fe25-ff7e-4e0a-94cf-095e4df73da0",
      "metadata": {
        "colab": {
          "base_uri": "https://localhost:8080/"
        },
        "id": "6d72fe25-ff7e-4e0a-94cf-095e4df73da0",
        "outputId": "2062b01d-54c9-4375-a1fd-bc2c7fbefea5"
      },
      "outputs": [
        {
          "output_type": "execute_result",
          "data": {
            "text/plain": [
              "{'bbox': {'height': 200, 'left': 50, 'top': 50, 'width': 200},\n",
              " 'classifications': [{'answer': {'schemaId': 'cl1dnu41o0iq50z4052nbe6jr'},\n",
              "   'schemaId': 'cl1dnu41o0iq20z403oxvgw7t'},\n",
              "  {'answers': [{'schemaId': 'cl1dnu41o0ipx0z40fuvk0tb6'},\n",
              "    {'schemaId': 'cl1dnu41o0ipz0z406j7qhdv2'}],\n",
              "   'schemaId': 'cl1dnu41o0ipu0z40awi6ap1f'}],\n",
              " 'dataRow': {'id': 'cl1dnu3cc0iec0z2w1hbd85mr'},\n",
              " 'schemaId': 'cl1dnu41o0ipt0z40bjoletaj',\n",
              " 'uuid': '4e043a88-e7b5-45b9-a04e-0e63a273bfba'}"
            ]
          },
          "metadata": {},
          "execution_count": 73
        }
      ],
      "source": [
        "tool_annotation = {\n",
        "    'uuid' : str(uuid.uuid4()),\n",
        "    'schemaId' : name_schemaId_map['box'],\n",
        "    'dataRow' : {'id' : data_row.uid},\n",
        "    'bbox' : {\n",
        "        'top' : 50,\n",
        "        'left' : 50,\n",
        "        'height' : 200,\n",
        "        'width' : 200\n",
        "    },\n",
        "    'classifications' : tool_subclass_list\n",
        "}\n",
        "dict(tool_annotation)"
      ]
    },
    {
      "cell_type": "code",
      "source": [
        "classification_annotation = {\n",
        "    'uuid' : str(uuid.uuid4()),\n",
        "    'schemaId' : name_schemaId_map['radio'],\n",
        "    'answers' : {\n",
        "        'schemaId' : name_schemaId_map['first_radio_answer'],\n",
        "    },\n",
        "    'classifications' : classification_subclass_list,\n",
        "    'dataRow' : {'id' : data_row.uid}\n",
        "}\n",
        "dict(classification_annotation)"
      ],
      "metadata": {
        "colab": {
          "base_uri": "https://localhost:8080/"
        },
        "id": "HMdlXTyy00o1",
        "outputId": "d2ae5bb2-3cf6-4018-b3b3-14b628d446c0"
      },
      "id": "HMdlXTyy00o1",
      "execution_count": 74,
      "outputs": [
        {
          "output_type": "execute_result",
          "data": {
            "text/plain": [
              "{'answers': {'schemaId': 'cl1dnu41p0iqa0z40gh8p9y7t'},\n",
              " 'classifications': [{'answers': [{'schemaId': 'cl1dnu41p0iqc0z40cgov1soq'}],\n",
              "   'schemaId': 'cl1dnu41p0iqb0z40gui5fqee'}],\n",
              " 'dataRow': {'id': 'cl1dnu3cc0iec0z2w1hbd85mr'},\n",
              " 'schemaId': 'cl1dnu41p0iq90z4012iu9vy4',\n",
              " 'uuid': '864dc092-4d3a-4e9c-97f4-0143b67210f3'}"
            ]
          },
          "metadata": {},
          "execution_count": 74
        }
      ]
    },
    {
      "cell_type": "code",
      "source": [
        "ndjson_annotations = [tool_annotation, classification_annotation]"
      ],
      "metadata": {
        "id": "bg6E9MEh2BoW"
      },
      "id": "bg6E9MEh2BoW",
      "execution_count": 75,
      "outputs": []
    },
    {
      "cell_type": "markdown",
      "id": "cc448767-1ded-4a02-af29-64b8b9f71d99",
      "metadata": {
        "id": "cc448767-1ded-4a02-af29-64b8b9f71d99"
      },
      "source": [
        "### Model Assisted Labeling "
      ]
    },
    {
      "cell_type": "markdown",
      "id": "90d5c6b7-0a67-481c-95a8-1791fe650767",
      "metadata": {
        "id": "90d5c6b7-0a67-481c-95a8-1791fe650767"
      },
      "source": [
        "If `model_assisted_labeling` is `True`, this section will execute, uploading annotations as pre-labels. "
      ]
    },
    {
      "cell_type": "code",
      "source": [
        "if model_assisted_labeling:\n",
        "  upload_job = MALPredictionImport.create_from_objects(\n",
        "      client = client, \n",
        "      project_id = subclasses_project.uid, \n",
        "      name=\"upload_label_import_job\", \n",
        "      predictions=ndjson_annotations)"
      ],
      "metadata": {
        "id": "rbWYnciq15RR"
      },
      "id": "rbWYnciq15RR",
      "execution_count": 76,
      "outputs": []
    },
    {
      "cell_type": "code",
      "execution_count": 77,
      "id": "2a8f9e5f-eeeb-4cfa-9b97-a09495a64d41",
      "metadata": {
        "id": "2a8f9e5f-eeeb-4cfa-9b97-a09495a64d41"
      },
      "outputs": [],
      "source": [
        "# Errors will appear for each annotation that failed.\n",
        "# Empty list means that there were no errors\n",
        "# This will provide information only after the upload_job is complete, so we do not need to worry about having to rerun\n",
        "if model_assisted_labeling:\n",
        "  print(\"Errors:\", upload_job.errors)"
      ]
    },
    {
      "cell_type": "markdown",
      "id": "aad5c035-c908-46c9-beac-f38da1befa25",
      "metadata": {
        "id": "aad5c035-c908-46c9-beac-f38da1befa25"
      },
      "source": [
        "### Label Import"
      ]
    },
    {
      "cell_type": "markdown",
      "id": "9d4fa318-7d08-4d98-b0ff-e2086814d75d",
      "metadata": {
        "id": "9d4fa318-7d08-4d98-b0ff-e2086814d75d"
      },
      "source": [
        "If `label_import` is `True`, this section will execute, uploading annotations as submitted labels. Label import is very similar to model-assisted labeling except that it will submit annotations uploaded."
      ]
    },
    {
      "cell_type": "code",
      "source": [
        "if label_import:\n",
        "  upload_job = LabelImport.create_from_objects(\n",
        "      client = client, \n",
        "      project_id = subclasses_project.uid, \n",
        "      name=\"upload_label_import_job\", \n",
        "      labels=ndjson_annotations)"
      ],
      "metadata": {
        "id": "ZN03w7-92SdL"
      },
      "id": "ZN03w7-92SdL",
      "execution_count": 78,
      "outputs": []
    },
    {
      "cell_type": "code",
      "execution_count": 79,
      "id": "e937ea0a-8beb-4dbc-974b-0316f0b980a5",
      "metadata": {
        "id": "e937ea0a-8beb-4dbc-974b-0316f0b980a5",
        "colab": {
          "base_uri": "https://localhost:8080/"
        },
        "outputId": "b83cec57-b8ed-4e90-f018-ca14dfa0f06e"
      },
      "outputs": [
        {
          "output_type": "stream",
          "name": "stdout",
          "text": [
            "Errors: []\n"
          ]
        }
      ],
      "source": [
        "if label_import:\n",
        "  print(\"Errors:\", upload_job.errors)"
      ]
    }
  ],
  "metadata": {
    "kernelspec": {
      "display_name": "Python 3",
      "language": "python",
      "name": "python3"
    },
    "language_info": {
      "codemirror_mode": {
        "name": "ipython",
        "version": 3
      },
      "file_extension": ".py",
      "mimetype": "text/x-python",
      "name": "python",
      "nbconvert_exporter": "python",
      "pygments_lexer": "ipython3",
      "version": "3.8.8"
    },
    "colab": {
      "name": "subclasses.ipynb",
      "provenance": [],
      "collapsed_sections": []
    }
  },
  "nbformat": 4,
  "nbformat_minor": 5
}